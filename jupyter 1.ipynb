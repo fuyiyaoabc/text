{
 "cells": [
  {
   "cell_type": "code",
   "execution_count": null,
   "id": "00757631-b4d4-45c2-9b14-81fbe7fbf9ba",
   "metadata": {},
   "outputs": [],
   "source": [
    "while true:\n",
    "    content = input(\"请输入你要喷的内容（q结束喷人）：\")\n",
    "    if content == \"q\":# == 表示判断左右两端是否一致\n",
    "        reak(\"发送给下路\"，content)"
   ]
  },
  {
   "cell_type": "code",
   "execution_count": null,
   "id": "f1494e4e-827c-4c72-8ec8-8b654e760c30",
   "metadata": {},
   "outputs": [],
   "source": []
  },
  {
   "cell_type": "code",
   "execution_count": null,
   "id": "573957bd-3084-4bd7-896e-c93af317f9e2",
   "metadata": {},
   "outputs": [],
   "source": []
  },
  {
   "cell_type": "code",
   "execution_count": null,
   "id": "8c74a72c-ceda-4f53-b6c1-24aaaa64bef7",
   "metadata": {},
   "outputs": [],
   "source": []
  },
  {
   "cell_type": "code",
   "execution_count": null,
   "id": "32209519-ded7-4363-a32a-ff7ffeafb3a6",
   "metadata": {},
   "outputs": [],
   "source": []
  },
  {
   "cell_type": "code",
   "execution_count": null,
   "id": "487f29ea-d2b6-4772-a3e9-89088ef322a3",
   "metadata": {},
   "outputs": [],
   "source": []
  },
  {
   "cell_type": "code",
   "execution_count": null,
   "id": "5dc2f13b-2070-4e8c-97aa-002b72fb32f5",
   "metadata": {},
   "outputs": [],
   "source": []
  },
  {
   "cell_type": "code",
   "execution_count": null,
   "id": "1b97e72b-7eb4-4fcf-aa39-125b427984ed",
   "metadata": {},
   "outputs": [],
   "source": []
  }
 ],
 "metadata": {
  "kernelspec": {
   "display_name": "Python 3",
   "language": "python",
   "name": "python3"
  },
  "language_info": {
   "codemirror_mode": {
    "name": "ipython",
    "version": 3
   },
   "file_extension": ".py",
   "mimetype": "text/x-python",
   "name": "python",
   "nbconvert_exporter": "python",
   "pygments_lexer": "ipython3",
   "version": "3.8.8"
  }
 },
 "nbformat": 4,
 "nbformat_minor": 5
}
